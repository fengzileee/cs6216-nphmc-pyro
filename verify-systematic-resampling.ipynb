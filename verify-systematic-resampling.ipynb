{
 "cells": [
  {
   "cell_type": "code",
   "execution_count": 1,
   "id": "059f62ff",
   "metadata": {},
   "outputs": [],
   "source": [
    "import pyro\n",
    "import torch\n",
    "import numpy as np\n",
    "from pyro.infer.importance import Importance"
   ]
  },
  {
   "cell_type": "markdown",
   "id": "9c179b02",
   "metadata": {},
   "source": [
    "# Whatsapp puzzle\n",
    "\n",
    "Probability of a day being Sunday is givn by Bernoulli distribution\n",
    "$$P(A) = p_{A}(x) = \\mathrm{Bern}\\left(x;1/7\\right)$$\n",
    "\n",
    "If the day is Sunday, number of messages $B$ per hour is given by the Poisson distribution\n",
    "$$P(B|A=1) = p_{B}(x|A=1) = \\mathrm{Poi}(x;3)$$\n",
    "otherwise\n",
    "$$P(B|A=0) = p_{B}(x|A=0) = \\mathrm{Poi}(x;10)$$\n",
    "\n",
    "If receives $4$ messages on a day, what is the probability that the day is Sunday\n",
    "$$P(A=1|B=4)$$"
   ]
  },
  {
   "cell_type": "markdown",
   "id": "bd354c88",
   "metadata": {},
   "source": [
    "# Calculate"
   ]
  },
  {
   "cell_type": "code",
   "execution_count": 2,
   "id": "1ede979a",
   "metadata": {},
   "outputs": [],
   "source": [
    "def model():\n",
    "    is_sunday = pyro.sample(\"is_sunday\", pyro.distributions.Bernoulli(1/7.0))\n",
    "    rate = torch.tensor(3.) if is_sunday == 1 else torch.tensor(10.)\n",
    "    numbers = pyro.sample(\"numbers\", pyro.distributions.Poisson(rate))\n",
    "    pyro.sample(\"obs\", pyro.distributions.Poisson(rate), obs=torch.tensor(4))\n",
    "    return is_sunday.item()"
   ]
  },
  {
   "cell_type": "code",
   "execution_count": 3,
   "id": "6c6437db",
   "metadata": {},
   "outputs": [
    {
     "data": {
      "text/plain": [
       "<pyro.infer.importance.Importance at 0x7f9787d8e1d0>"
      ]
     },
     "execution_count": 3,
     "metadata": {},
     "output_type": "execute_result"
    }
   ],
   "source": [
    "importance = Importance(model, guide=None, num_samples=20000)\n",
    "importance.run()"
   ]
  },
  {
   "cell_type": "code",
   "execution_count": 4,
   "id": "227b924a",
   "metadata": {},
   "outputs": [
    {
     "data": {
      "text/plain": [
       "0.5975210446684337"
      ]
     },
     "execution_count": 4,
     "metadata": {},
     "output_type": "execute_result"
    }
   ],
   "source": [
    "log_weights = np.array([w.item() for w in importance.log_weights])\n",
    "values = np.array([t.nodes['is_sunday']['value'].item() for t in importance.exec_traces])\n",
    "weights = np.exp(log_weights)\n",
    "np.sum(weights * values) / np.sum(weights)"
   ]
  },
  {
   "cell_type": "markdown",
   "id": "b5ff6395",
   "metadata": {},
   "source": [
    "# Sample from posterior via systematic resampling"
   ]
  },
  {
   "cell_type": "code",
   "execution_count": 5,
   "id": "c6906813",
   "metadata": {},
   "outputs": [],
   "source": [
    "import math\n",
    "def systematic_resampling(log_weights, values):\n",
    "    import torch\n",
    "\n",
    "    mx = max(log_weights)\n",
    "    weight_sum = sum(math.exp(log_weight - mx) for log_weight in log_weights)\n",
    "    u_n = torch.distributions.Uniform(0, 1).sample().item()\n",
    "    sum_acc = 0.0\n",
    "    resamples = []\n",
    "    for (log_weight, value) in zip(log_weights, values):\n",
    "        weight = math.exp(log_weight - mx) * len(values) / weight_sum\n",
    "        sum_acc += weight\n",
    "        while u_n < sum_acc:\n",
    "            u_n += 1\n",
    "            resamples.append(value)\n",
    "    return resamples\n"
   ]
  },
  {
   "cell_type": "code",
   "execution_count": 6,
   "id": "1bec4c35",
   "metadata": {},
   "outputs": [],
   "source": [
    "resamples = systematic_resampling(log_weights, values)                                                               "
   ]
  },
  {
   "cell_type": "code",
   "execution_count": 1,
   "id": "9b5a8f16",
   "metadata": {},
   "outputs": [
    {
     "name": "stderr",
     "output_type": "stream",
     "text": [
      "Sample: 100%|██████████| 110/110 [00:21,  5.17it/s, step size=1.00e-01, acc. prob=0.785]\n"
     ]
    },
    {
     "ename": "RuntimeError",
     "evalue": "stack expects each tensor to be equal size, but got [2] at entry 0 and [3] at entry 1",
     "output_type": "error",
     "traceback": [
      "\u001b[0;31m---------------------------------------------------------------------------\u001b[0m",
      "\u001b[0;31mRuntimeError\u001b[0m                              Traceback (most recent call last)",
      "\u001b[0;32m/tmp/ipykernel_26280/595987881.py\u001b[0m in \u001b[0;36m<module>\u001b[0;34m\u001b[0m\n\u001b[1;32m     24\u001b[0m \u001b[0mcount\u001b[0m \u001b[0;34m=\u001b[0m \u001b[0;36m100\u001b[0m\u001b[0;34m\u001b[0m\u001b[0;34m\u001b[0m\u001b[0m\n\u001b[1;32m     25\u001b[0m \u001b[0mmcmc\u001b[0m \u001b[0;34m=\u001b[0m \u001b[0mpyromcmc\u001b[0m\u001b[0;34m.\u001b[0m\u001b[0mMCMC\u001b[0m\u001b[0;34m(\u001b[0m\u001b[0mkernel\u001b[0m\u001b[0;34m,\u001b[0m \u001b[0mnum_samples\u001b[0m\u001b[0;34m=\u001b[0m\u001b[0mcount\u001b[0m\u001b[0;34m,\u001b[0m \u001b[0mwarmup_steps\u001b[0m\u001b[0;34m=\u001b[0m\u001b[0mcount\u001b[0m \u001b[0;34m//\u001b[0m \u001b[0;36m10\u001b[0m\u001b[0;34m)\u001b[0m\u001b[0;34m\u001b[0m\u001b[0;34m\u001b[0m\u001b[0m\n\u001b[0;32m---> 26\u001b[0;31m \u001b[0mmcmc\u001b[0m\u001b[0;34m.\u001b[0m\u001b[0mrun\u001b[0m\u001b[0;34m(\u001b[0m\u001b[0;34m)\u001b[0m\u001b[0;34m\u001b[0m\u001b[0;34m\u001b[0m\u001b[0m\n\u001b[0m\u001b[1;32m     27\u001b[0m \u001b[0msamples\u001b[0m \u001b[0;34m=\u001b[0m \u001b[0mmcmc\u001b[0m\u001b[0;34m.\u001b[0m\u001b[0mget_samples\u001b[0m\u001b[0;34m(\u001b[0m\u001b[0;34m)\u001b[0m\u001b[0;34m\u001b[0m\u001b[0;34m\u001b[0m\u001b[0m\n\u001b[1;32m     28\u001b[0m \u001b[0mprint\u001b[0m\u001b[0;34m(\u001b[0m\u001b[0msamples\u001b[0m\u001b[0;34m[\u001b[0m\u001b[0;34m\"measurement_1\"\u001b[0m\u001b[0;34m]\u001b[0m\u001b[0;34m.\u001b[0m\u001b[0mmean\u001b[0m\u001b[0;34m(\u001b[0m\u001b[0;36m0\u001b[0m\u001b[0;34m)\u001b[0m\u001b[0;34m)\u001b[0m\u001b[0;34m\u001b[0m\u001b[0;34m\u001b[0m\u001b[0m\n",
      "\u001b[0;32m~/cs6216proj/cs6216-nphmc-pyro/pyro/pyro/poutine/messenger.py\u001b[0m in \u001b[0;36m_context_wrap\u001b[0;34m(context, fn, *args, **kwargs)\u001b[0m\n\u001b[1;32m     10\u001b[0m \u001b[0;32mdef\u001b[0m \u001b[0m_context_wrap\u001b[0m\u001b[0;34m(\u001b[0m\u001b[0mcontext\u001b[0m\u001b[0;34m,\u001b[0m \u001b[0mfn\u001b[0m\u001b[0;34m,\u001b[0m \u001b[0;34m*\u001b[0m\u001b[0margs\u001b[0m\u001b[0;34m,\u001b[0m \u001b[0;34m**\u001b[0m\u001b[0mkwargs\u001b[0m\u001b[0;34m)\u001b[0m\u001b[0;34m:\u001b[0m\u001b[0;34m\u001b[0m\u001b[0;34m\u001b[0m\u001b[0m\n\u001b[1;32m     11\u001b[0m     \u001b[0;32mwith\u001b[0m \u001b[0mcontext\u001b[0m\u001b[0;34m:\u001b[0m\u001b[0;34m\u001b[0m\u001b[0;34m\u001b[0m\u001b[0m\n\u001b[0;32m---> 12\u001b[0;31m         \u001b[0;32mreturn\u001b[0m \u001b[0mfn\u001b[0m\u001b[0;34m(\u001b[0m\u001b[0;34m*\u001b[0m\u001b[0margs\u001b[0m\u001b[0;34m,\u001b[0m \u001b[0;34m**\u001b[0m\u001b[0mkwargs\u001b[0m\u001b[0;34m)\u001b[0m\u001b[0;34m\u001b[0m\u001b[0;34m\u001b[0m\u001b[0m\n\u001b[0m\u001b[1;32m     13\u001b[0m \u001b[0;34m\u001b[0m\u001b[0m\n\u001b[1;32m     14\u001b[0m \u001b[0;34m\u001b[0m\u001b[0m\n",
      "\u001b[0;32m~/cs6216proj/cs6216-nphmc-pyro/pyro/pyro/infer/mcmc/api.py\u001b[0m in \u001b[0;36mrun\u001b[0;34m(self, *args, **kwargs)\u001b[0m\n\u001b[1;32m    576\u001b[0m                     \u001b[0mz_flat_acc\u001b[0m\u001b[0;34m[\u001b[0m\u001b[0mchain_id\u001b[0m\u001b[0;34m]\u001b[0m\u001b[0;34m.\u001b[0m\u001b[0mappend\u001b[0m\u001b[0;34m(\u001b[0m\u001b[0mx_cloned\u001b[0m\u001b[0;34m)\u001b[0m\u001b[0;34m\u001b[0m\u001b[0;34m\u001b[0m\u001b[0m\n\u001b[1;32m    577\u001b[0m \u001b[0;34m\u001b[0m\u001b[0m\n\u001b[0;32m--> 578\u001b[0;31m         \u001b[0mz_flat_acc\u001b[0m \u001b[0;34m=\u001b[0m \u001b[0mtorch\u001b[0m\u001b[0;34m.\u001b[0m\u001b[0mstack\u001b[0m\u001b[0;34m(\u001b[0m\u001b[0;34m[\u001b[0m\u001b[0mtorch\u001b[0m\u001b[0;34m.\u001b[0m\u001b[0mstack\u001b[0m\u001b[0;34m(\u001b[0m\u001b[0ml\u001b[0m\u001b[0;34m)\u001b[0m \u001b[0;32mfor\u001b[0m \u001b[0ml\u001b[0m \u001b[0;32min\u001b[0m \u001b[0mz_flat_acc\u001b[0m\u001b[0;34m]\u001b[0m\u001b[0;34m)\u001b[0m\u001b[0;34m\u001b[0m\u001b[0;34m\u001b[0m\u001b[0m\n\u001b[0m\u001b[1;32m    579\u001b[0m \u001b[0;34m\u001b[0m\u001b[0m\n\u001b[1;32m    580\u001b[0m         \u001b[0;31m# unpack latent\u001b[0m\u001b[0;34m\u001b[0m\u001b[0;34m\u001b[0m\u001b[0;34m\u001b[0m\u001b[0m\n",
      "\u001b[0;32m~/cs6216proj/cs6216-nphmc-pyro/pyro/pyro/infer/mcmc/api.py\u001b[0m in \u001b[0;36m<listcomp>\u001b[0;34m(.0)\u001b[0m\n\u001b[1;32m    576\u001b[0m                     \u001b[0mz_flat_acc\u001b[0m\u001b[0;34m[\u001b[0m\u001b[0mchain_id\u001b[0m\u001b[0;34m]\u001b[0m\u001b[0;34m.\u001b[0m\u001b[0mappend\u001b[0m\u001b[0;34m(\u001b[0m\u001b[0mx_cloned\u001b[0m\u001b[0;34m)\u001b[0m\u001b[0;34m\u001b[0m\u001b[0;34m\u001b[0m\u001b[0m\n\u001b[1;32m    577\u001b[0m \u001b[0;34m\u001b[0m\u001b[0m\n\u001b[0;32m--> 578\u001b[0;31m         \u001b[0mz_flat_acc\u001b[0m \u001b[0;34m=\u001b[0m \u001b[0mtorch\u001b[0m\u001b[0;34m.\u001b[0m\u001b[0mstack\u001b[0m\u001b[0;34m(\u001b[0m\u001b[0;34m[\u001b[0m\u001b[0mtorch\u001b[0m\u001b[0;34m.\u001b[0m\u001b[0mstack\u001b[0m\u001b[0;34m(\u001b[0m\u001b[0ml\u001b[0m\u001b[0;34m)\u001b[0m \u001b[0;32mfor\u001b[0m \u001b[0ml\u001b[0m \u001b[0;32min\u001b[0m \u001b[0mz_flat_acc\u001b[0m\u001b[0;34m]\u001b[0m\u001b[0;34m)\u001b[0m\u001b[0;34m\u001b[0m\u001b[0;34m\u001b[0m\u001b[0m\n\u001b[0m\u001b[1;32m    579\u001b[0m \u001b[0;34m\u001b[0m\u001b[0m\n\u001b[1;32m    580\u001b[0m         \u001b[0;31m# unpack latent\u001b[0m\u001b[0;34m\u001b[0m\u001b[0;34m\u001b[0m\u001b[0;34m\u001b[0m\u001b[0m\n",
      "\u001b[0;31mRuntimeError\u001b[0m: stack expects each tensor to be equal size, but got [2] at entry 0 and [3] at entry 1"
     ]
    }
   ],
   "source": [
    "from pyro.infer.importance import Importance\n",
    "import pyro.infer.mcmc as pyromcmc\n",
    "from pathlib import Path\n",
    "import pyro\n",
    "import torch\n",
    "import numpy as np\n",
    "\n",
    "def scale():\n",
    "    weight = pyro.sample(\"weight\", pyro.distributions.Normal(2.0, 1.0), is_cont=False)\n",
    "    if weight < 2.2:\n",
    "        m = pyro.sample(\"measurement_1\", pyro.distributions.Normal(weight - 1, 0.75), is_cont=False)\n",
    "        return weight.item()\n",
    "    else:\n",
    "        tmp = pyro.sample(\"measurement_1\", pyro.distributions.Normal(weight + 1, 0.75), is_cont=False)\n",
    "        m = pyro.sample(\"measurement_2\", pyro.distributions.Normal(tmp + 1, 0.25), is_cont=False)\n",
    "        return weight.item()\n",
    "\n",
    "kernel = pyromcmc.NPDHMC(\n",
    "    scale,\n",
    "    step_size=0.1,\n",
    "    num_steps=50,\n",
    "    adapt_step_size=False,\n",
    ")\n",
    "count = 100\n",
    "mcmc = pyromcmc.MCMC(kernel, num_samples=count, warmup_steps=count // 10)\n",
    "mcmc.run()\n",
    "samples = mcmc.get_samples()\n",
    "print(samples[\"measurement_1\"].mean(0))\n",
    "for key, value in samples.items():\n",
    "    print(key, value.shape, value)\n",
    "mcmc.summary() "
   ]
  }
 ],
 "metadata": {
  "kernelspec": {
   "display_name": "Python 3 (ipykernel)",
   "language": "python",
   "name": "python3"
  },
  "language_info": {
   "codemirror_mode": {
    "name": "ipython",
    "version": 3
   },
   "file_extension": ".py",
   "mimetype": "text/x-python",
   "name": "python",
   "nbconvert_exporter": "python",
   "pygments_lexer": "ipython3",
   "version": "3.7.3"
  }
 },
 "nbformat": 4,
 "nbformat_minor": 5
}
