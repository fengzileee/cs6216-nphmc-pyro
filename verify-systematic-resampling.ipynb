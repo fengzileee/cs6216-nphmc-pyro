{
 "cells": [
  {
   "cell_type": "code",
   "execution_count": 1,
   "id": "059f62ff",
   "metadata": {},
   "outputs": [],
   "source": [
    "import pyro\n",
    "import torch\n",
    "import numpy as np\n",
    "from pyro.infer.importance import Importance"
   ]
  },
  {
   "cell_type": "markdown",
   "id": "9c179b02",
   "metadata": {},
   "source": [
    "# Whatsapp puzzle\n",
    "\n",
    "Probability of a day being Sunday is givn by Bernoulli distribution\n",
    "$$P(A) = p_{A}(x) = \\mathrm{Bern}\\left(x;1/7\\right)$$\n",
    "\n",
    "If the day is Sunday, number of messages $B$ per hour is given by the Poisson distribution\n",
    "$$P(B|A=1) = p_{B}(x|A=1) = \\mathrm{Poi}(x;3)$$\n",
    "otherwise\n",
    "$$P(B|A=0) = p_{B}(x|A=0) = \\mathrm{Poi}(x;10)$$\n",
    "\n",
    "If receives $4$ messages on a day, what is the probability that the day is Sunday\n",
    "$$P(A=1|B=4)$$"
   ]
  },
  {
   "cell_type": "markdown",
   "id": "bd354c88",
   "metadata": {},
   "source": [
    "# Calculate"
   ]
  },
  {
   "cell_type": "code",
   "execution_count": 2,
   "id": "1ede979a",
   "metadata": {},
   "outputs": [],
   "source": [
    "def scale():\n",
    "    weight = pyro.sample(\"weight\", pyro.distributions.Uniform(0.0, 3.0), is_cont=False)\n",
    "    if weight < 2.2:\n",
    "        m = pyro.sample(\"measurement_1\", pyro.distributions.Normal(weight - 1, 0.75), is_cont=False)\n",
    "    else:\n",
    "        tmp = pyro.sample(\"measurement_2\", pyro.distributions.Normal(weight + 1, 0.75), is_cont=False)\n",
    "        m = pyro.sample(\"measurement_1\", pyro.distributions.Normal(tmp + 1, 0.25), is_cont=False)\n",
    "    pyro.sample(\"obs\", pyro.distributions.Normal(3.1, 0.25), obs=m)\n",
    "    return weight.item()\n",
    "\n"
   ]
  },
  {
   "cell_type": "code",
   "execution_count": 9,
   "id": "6c6437db",
   "metadata": {},
   "outputs": [
    {
     "data": {
      "text/plain": [
       "<pyro.infer.importance.Importance at 0x7fd1650d8ac8>"
      ]
     },
     "execution_count": 9,
     "metadata": {},
     "output_type": "execute_result"
    }
   ],
   "source": [
    "importance = Importance(scale, guide=None, num_samples=20000)\n",
    "importance.run()"
   ]
  },
  {
   "cell_type": "code",
   "execution_count": 11,
   "id": "227b924a",
   "metadata": {},
   "outputs": [
    {
     "data": {
      "text/plain": [
       "2.4446210441454292"
      ]
     },
     "execution_count": 11,
     "metadata": {},
     "output_type": "execute_result"
    }
   ],
   "source": [
    "log_weights = np.array([w.item() for w in importance.log_weights])\n",
    "values = np.array([t.nodes['weight']['value'].item() for t in importance.exec_traces])\n",
    "weights = np.exp(log_weights)\n",
    "np.sum(weights * values) / np.sum(weights)"
   ]
  },
  {
   "cell_type": "markdown",
   "id": "b5ff6395",
   "metadata": {},
   "source": [
    "# Sample from posterior via systematic resampling"
   ]
  },
  {
   "cell_type": "code",
   "execution_count": 25,
   "id": "c6906813",
   "metadata": {},
   "outputs": [],
   "source": [
    "import math\n",
    "def systematic_resampling(log_weights, values):\n",
    "    import torch\n",
    "\n",
    "    mx = max(log_weights)\n",
    "    weight_sum = sum(math.exp(log_weight - mx) for log_weight in log_weights)\n",
    "    u_n = torch.distributions.Uniform(0, 1).sample().item()\n",
    "    sum_acc = 0.0\n",
    "    resamples = []\n",
    "    for (log_weight, value) in zip(log_weights, values):\n",
    "        weight = math.exp(log_weight - mx) * len(values) / weight_sum\n",
    "        sum_acc += weight\n",
    "        while u_n < sum_acc:\n",
    "            u_n += 1\n",
    "            resamples.append(value)\n",
    "    return resamples\n"
   ]
  },
  {
   "cell_type": "code",
   "execution_count": 26,
   "id": "1bec4c35",
   "metadata": {},
   "outputs": [
    {
     "name": "stdout",
     "output_type": "stream",
     "text": [
      "2.445070327234268\n"
     ]
    }
   ],
   "source": [
    "resamples = systematic_resampling(log_weights, values)                   \n",
    "print(np.mean(resamples))                                            "
   ]
  },
  {
   "cell_type": "code",
   "execution_count": 6,
   "id": "9b5a8f16",
   "metadata": {},
   "outputs": [
    {
     "name": "stderr",
     "output_type": "stream",
     "text": [
      "Sample: 100%|██████████| 1100/1100 [08:42,  2.11it/s, step size=1.00e-01, acc. prob=0.537]"
     ]
    },
    {
     "name": "stdout",
     "output_type": "stream",
     "text": [
      "weight torch.Size([1000]) tensor(2.2481, grad_fn=<MeanBackward1>)\n",
      "measurement_2 torch.Size([660]) tensor(2.4618, grad_fn=<MeanBackward1>)\n",
      "measurement_1 torch.Size([1000]) tensor(3.2792, grad_fn=<MeanBackward1>)\n"
     ]
    },
    {
     "name": "stderr",
     "output_type": "stream",
     "text": [
      "\n"
     ]
    }
   ],
   "source": [
    "from pyro.infer.importance import Importance\n",
    "import pyro.infer.mcmc as pyromcmc\n",
    "from pathlib import Path\n",
    "import pyro\n",
    "import torch\n",
    "import numpy as np\n",
    "\n",
    "kernel = pyromcmc.NPDHMC(\n",
    "    scale,\n",
    "    step_size=0.1,\n",
    "    num_steps=50,\n",
    "    adapt_step_size=False,\n",
    ")\n",
    "count = 1000\n",
    "mcmc = pyromcmc.MCMC(kernel, num_samples=count, warmup_steps=count // 10)\n",
    "mcmc.run()\n",
    "samples = mcmc.get_samples()\n",
    "for key, value in samples.items():\n",
    "    print(key, value.shape, value.mean(0))"
   ]
  },
  {
   "cell_type": "code",
   "execution_count": 5,
   "id": "a8cb51e3",
   "metadata": {},
   "outputs": [
    {
     "name": "stderr",
     "output_type": "stream",
     "text": [
      "Sample: 100%|██████████| 1100/1100 [00:58, 18.70it/s, step size=1.00e-01, acc. prob=0.045]\n"
     ]
    },
    {
     "name": "stdout",
     "output_type": "stream",
     "text": [
      "measurement_1 torch.Size([1000]) tensor(3.2458, grad_fn=<MeanBackward1>)\n",
      "weight torch.Size([1000]) tensor(2.1792, grad_fn=<MeanBackward1>)\n"
     ]
    }
   ],
   "source": [
    "\n",
    "kernel = pyromcmc.HMC(\n",
    "    scale,\n",
    "    step_size=0.1,\n",
    "    num_steps=50,\n",
    "    adapt_step_size=False,\n",
    ")\n",
    "count = 1000\n",
    "mcmc = pyromcmc.MCMC(kernel, num_samples=count, warmup_steps=count // 10)\n",
    "mcmc.run()\n",
    "samples = mcmc.get_samples()\n",
    "for key, value in samples.items():\n",
    "    print(key, value.shape, value.mean(0))"
   ]
  },
  {
   "cell_type": "code",
   "execution_count": null,
   "id": "244a6264",
   "metadata": {},
   "outputs": [],
   "source": []
  }
 ],
 "metadata": {
  "kernelspec": {
   "display_name": "Python 3 (ipykernel)",
   "language": "python",
   "name": "python3"
  },
  "language_info": {
   "codemirror_mode": {
    "name": "ipython",
    "version": 3
   },
   "file_extension": ".py",
   "mimetype": "text/x-python",
   "name": "python",
   "nbconvert_exporter": "python",
   "pygments_lexer": "ipython3",
   "version": "3.7.3"
  }
 },
 "nbformat": 4,
 "nbformat_minor": 5
}
