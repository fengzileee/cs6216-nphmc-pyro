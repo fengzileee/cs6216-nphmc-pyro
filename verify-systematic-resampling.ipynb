{
 "cells": [
  {
   "cell_type": "code",
   "execution_count": 4,
   "id": "059f62ff",
   "metadata": {},
   "outputs": [],
   "source": [
    "import pyro\n",
    "import torch\n",
    "import numpy as np\n",
    "from pyro.infer.importance import Importance"
   ]
  },
  {
   "cell_type": "markdown",
   "id": "9c179b02",
   "metadata": {},
   "source": [
    "# Whatsapp puzzle\n",
    "\n",
    "Probability of a day being Sunday is givn by Bernoulli distribution\n",
    "$$P(A) = p_{A}(x) = \\mathrm{Bern}\\left(x;1/7\\right)$$\n",
    "\n",
    "If the day is Sunday, number of messages $B$ per hour is given by the Poisson distribution\n",
    "$$P(B|A=1) = p_{B}(x|A=1) = \\mathrm{Poi}(x;3)$$\n",
    "otherwise\n",
    "$$P(B|A=0) = p_{B}(x|A=0) = \\mathrm{Poi}(x;10)$$\n",
    "\n",
    "If receives $4$ messages on a day, what is the probability that the day is Sunday\n",
    "$$P(A=1|B=4)$$"
   ]
  },
  {
   "cell_type": "markdown",
   "id": "bd354c88",
   "metadata": {},
   "source": [
    "# Calculate"
   ]
  },
  {
   "cell_type": "code",
   "execution_count": 5,
   "id": "1ede979a",
   "metadata": {},
   "outputs": [],
   "source": [
    "def scale():\n",
    "    weight = pyro.sample(\"weight\", pyro.distributions.Normal(2.0, 1.0), is_cont=False)\n",
    "    if weight < 2.2:\n",
    "        m = pyro.sample(\"measurement_1\", pyro.distributions.Normal(weight - 1, 0.75), is_cont=False)\n",
    "    else:\n",
    "        tmp = pyro.sample(\"measurement_2\", pyro.distributions.Normal(weight + 1, 0.75), is_cont=False)\n",
    "        m = pyro.sample(\"measurement_1\", pyro.distributions.Normal(tmp + 1, 0.25), is_cont=False)\n",
    "    pyro.sample(\"obs\", pyro.distributions.Normal(1.7, 0.8), obs=m)\n",
    "    return weight.item()\n",
    "\n"
   ]
  },
  {
   "cell_type": "code",
   "execution_count": 6,
   "id": "6c6437db",
   "metadata": {},
   "outputs": [
    {
     "data": {
      "text/plain": [
       "<pyro.infer.importance.Importance at 0x7f1e9c1257f0>"
      ]
     },
     "execution_count": 6,
     "metadata": {},
     "output_type": "execute_result"
    }
   ],
   "source": [
    "importance = Importance(scale, guide=None, num_samples=20000)\n",
    "importance.run()"
   ]
  },
  {
   "cell_type": "code",
   "execution_count": 8,
   "id": "227b924a",
   "metadata": {},
   "outputs": [
    {
     "data": {
      "text/plain": [
       "1.6921990320583897"
      ]
     },
     "execution_count": 8,
     "metadata": {},
     "output_type": "execute_result"
    }
   ],
   "source": [
    "log_weights = np.array([w.item() for w in importance.log_weights])\n",
    "values = np.array([t.nodes['weight']['value'].item() for t in importance.exec_traces])\n",
    "weights = np.exp(log_weights)\n",
    "np.sum(weights * values) / np.sum(weights)"
   ]
  },
  {
   "cell_type": "markdown",
   "id": "b5ff6395",
   "metadata": {},
   "source": [
    "# Sample from posterior via systematic resampling"
   ]
  },
  {
   "cell_type": "code",
   "execution_count": 9,
   "id": "c6906813",
   "metadata": {},
   "outputs": [],
   "source": [
    "import math\n",
    "def systematic_resampling(log_weights, values):\n",
    "    import torch\n",
    "\n",
    "    mx = max(log_weights)\n",
    "    weight_sum = sum(math.exp(log_weight - mx) for log_weight in log_weights)\n",
    "    u_n = torch.distributions.Uniform(0, 1).sample().item()\n",
    "    sum_acc = 0.0\n",
    "    resamples = []\n",
    "    for (log_weight, value) in zip(log_weights, values):\n",
    "        weight = math.exp(log_weight - mx) * len(values) / weight_sum\n",
    "        sum_acc += weight\n",
    "        while u_n < sum_acc:\n",
    "            u_n += 1\n",
    "            resamples.append(value)\n",
    "    return resamples\n"
   ]
  },
  {
   "cell_type": "code",
   "execution_count": 11,
   "id": "1bec4c35",
   "metadata": {},
   "outputs": [
    {
     "name": "stdout",
     "output_type": "stream",
     "text": [
      "1.6919209121346475\n"
     ]
    }
   ],
   "source": [
    "resamples = systematic_resampling(log_weights, values)                   \n",
    "print(np.mean(resamples))                                            "
   ]
  },
  {
   "cell_type": "code",
   "execution_count": 1,
   "id": "9b5a8f16",
   "metadata": {},
   "outputs": [
    {
     "name": "stderr",
     "output_type": "stream",
     "text": [
      "Sample: 100%|██████████| 110/110 [00:21,  5.01it/s, step size=1.00e-01, acc. prob=0.993]\n"
     ]
    },
    {
     "name": "stdout",
     "output_type": "stream",
     "text": [
      "tensor(-0.1879, grad_fn=<MeanBackward1>)\n",
      "measurement_1 torch.Size([100]) tensor([-1.3919,  1.0081, -0.9919,  0.4081, -0.7919,  0.6081, -1.1919,  0.6081,\n",
      "        -1.1919,  0.6081, -0.1919,  0.0081, -0.3919,  0.0081, -0.5919,  0.0081,\n",
      "         0.0081, -0.5919,  0.0081, -0.5919,  0.2081, -0.5919,  0.4081, -0.5919,\n",
      "         0.4081, -0.7919,  0.4081, -0.9919,  0.4081, -0.9919,  1.0081, -0.9919,\n",
      "         1.0081, -1.5919,  1.4081, -1.1919,  0.6081, -1.1919,  0.6081, -1.1919,\n",
      "         1.0081, -1.1919,  0.6081, -1.1919,  0.6081, -1.1919,  0.6081, -1.1919,\n",
      "         0.8081, -1.1919,  0.6081, -0.7919,  0.8081, -1.3919,  0.8081, -1.3919,\n",
      "         1.0081, -0.7919,  0.4081, -0.7919,  0.2081,  0.0081, -0.5919,  0.0081,\n",
      "        -0.3919,  0.0081, -0.3919, -0.1919, -0.3919, -0.1919, -0.3919,  0.0081,\n",
      "        -0.5919,  0.0081, -0.3919, -0.1919, -0.3919, -0.1919, -0.1919, -0.3919,\n",
      "         0.4081, -0.9919,  2.0081,  0.0081, -0.5919,  0.0081, -0.3919, -0.1919,\n",
      "        -0.1919,  0.2081, -0.7919,  0.4081, -0.1919, -0.3919, -0.1919, -0.3919,\n",
      "        -0.1919, -0.3919,  1.0081, -1.1919], grad_fn=<ReshapeAliasBackward0>)\n",
      "weight torch.Size([100]) tensor([-1.6366,  2.3634,  1.1634,  1.9634,  1.3634,  1.3634, -0.2366,  2.4634,\n",
      "         0.8634,  2.2634,  1.8634,  1.7634,  1.8634,  1.1634,  2.7634, -0.7366,\n",
      "        -0.7366,  2.8634,  0.7634,  0.1634,  1.2634,  2.7634,  1.3634,  1.3634,\n",
      "         0.8634,  0.0634,  0.3634,  1.4634,  1.1634,  0.9634,  1.3634,  1.3634,\n",
      "         0.9634,  0.0634,  2.3634, -0.2366,  1.9634,  0.3634,  2.4634,  0.8634,\n",
      "         1.9634,  0.3634,  2.1634,  0.8634,  2.2634,  0.6634,  2.1634, -0.5366,\n",
      "         1.1634,  1.5634,  1.3634,  0.9634,  1.8634,  0.0634,  2.2634,  0.4634,\n",
      "         1.8634,  1.1634,  2.0634,  1.2634,  2.2634,  1.7634,  1.8634,  1.6634,\n",
      "         1.9634,  0.8634,  2.8634,  1.2634,  1.7634,  2.0634,  2.2634,  0.7634,\n",
      "         0.4634,  1.4634,  2.1634,  1.0634,  2.9634, -0.9366,  3.1634, -1.5366,\n",
      "         3.1634, -1.8366,  2.7634, -1.2366,  2.4634,  0.3634,  0.1634,  2.1634,\n",
      "         1.2634,  2.2634,  1.3634,  1.6634,  2.1634,  1.0634,  3.0634, -1.6366,\n",
      "         3.1634, -1.7366,  3.1634, -1.3366], grad_fn=<ReshapeAliasBackward0>)\n",
      "\n",
      "                     mean       std    median      5.0%     95.0%     n_eff     r_hat\n",
      "  measurement_1     -0.19      0.73     -0.19     -1.39      0.81   -172.54      0.99\n",
      "         weight      1.25      1.21      1.36     -0.74      3.16    247.44      0.99\n",
      "\n",
      "Number of divergences: 0\n"
     ]
    }
   ],
   "source": [
    "from pyro.infer.importance import Importance\n",
    "import pyro.infer.mcmc as pyromcmc\n",
    "from pathlib import Path\n",
    "import pyro\n",
    "import torch\n",
    "import numpy as np\n",
    "\n",
    "def scale():\n",
    "    weight = pyro.sample(\"weight\", pyro.distributions.Normal(2.0, 1.0), is_cont=False)\n",
    "    if weight < 2.2:\n",
    "        m = pyro.sample(\"measurement_1\", pyro.distributions.Normal(weight - 1, 0.75), is_cont=False)\n",
    "    else:\n",
    "        tmp = pyro.sample(\"measurement_2\", pyro.distributions.Normal(weight + 1, 0.75), is_cont=False)\n",
    "        m = pyro.sample(\"measurement_1\", pyro.distributions.Normal(tmp + 1, 0.25), is_cont=False)\n",
    "    pyro.sample(\"obs\", pyro.distributions.Normal(1.7, 0.8), obs=m)\n",
    "    return weight.item()\n",
    "\n",
    "kernel = pyromcmc.NPDHMC(\n",
    "    scale,\n",
    "    step_size=0.1,\n",
    "    num_steps=50,\n",
    "    adapt_step_size=False,\n",
    ")\n",
    "count = 1000\n",
    "mcmc = pyromcmc.MCMC(kernel, num_samples=count, warmup_steps=count // 10)\n",
    "mcmc.run()\n",
    "samples = mcmc.get_samples()\n",
    "print(samples[\"measurement_1\"].mean(0))\n",
    "for key, value in samples.items():\n",
    "    print(key, value.shape, value)\n",
    "mcmc.summary() "
   ]
  },
  {
   "cell_type": "code",
   "execution_count": 2,
   "id": "6c5e242f",
   "metadata": {},
   "outputs": [
    {
     "name": "stdout",
     "output_type": "stream",
     "text": [
      "tensor(1.2544, grad_fn=<MeanBackward1>)\n"
     ]
    }
   ],
   "source": [
    "print(samples[\"weight\"].mean(0))"
   ]
  },
  {
   "cell_type": "code",
   "execution_count": null,
   "id": "a8cb51e3",
   "metadata": {},
   "outputs": [],
   "source": []
  }
 ],
 "metadata": {
  "kernelspec": {
   "display_name": "Python 3 (ipykernel)",
   "language": "python",
   "name": "python3"
  },
  "language_info": {
   "codemirror_mode": {
    "name": "ipython",
    "version": 3
   },
   "file_extension": ".py",
   "mimetype": "text/x-python",
   "name": "python",
   "nbconvert_exporter": "python",
   "pygments_lexer": "ipython3",
   "version": "3.7.3"
  }
 },
 "nbformat": 4,
 "nbformat_minor": 5
}
