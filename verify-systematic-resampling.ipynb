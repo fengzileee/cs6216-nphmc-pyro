{
 "cells": [
  {
   "cell_type": "code",
   "execution_count": 1,
   "id": "059f62ff",
   "metadata": {},
   "outputs": [],
   "source": [
    "import pyro\n",
    "import torch\n",
    "import numpy as np\n",
    "from pyro.infer.importance import Importance"
   ]
  },
  {
   "cell_type": "markdown",
   "id": "9c179b02",
   "metadata": {},
   "source": [
    "# Whatsapp puzzle\n",
    "\n",
    "Probability of a day being Sunday is givn by Bernoulli distribution\n",
    "$$P(A) = p_{A}(x) = \\mathrm{Bern}\\left(x;1/7\\right)$$\n",
    "\n",
    "If the day is Sunday, number of messages $B$ per hour is given by the Poisson distribution\n",
    "$$P(B|A=1) = p_{B}(x|A=1) = \\mathrm{Poi}(x;3)$$\n",
    "otherwise\n",
    "$$P(B|A=0) = p_{B}(x|A=0) = \\mathrm{Poi}(x;10)$$\n",
    "\n",
    "If receives $4$ messages on a day, what is the probability that the day is Sunday\n",
    "$$P(A=1|B=4)$$"
   ]
  },
  {
   "cell_type": "markdown",
   "id": "bd354c88",
   "metadata": {},
   "source": [
    "# Calculate"
   ]
  },
  {
   "cell_type": "code",
   "execution_count": 2,
   "id": "1ede979a",
   "metadata": {},
   "outputs": [],
   "source": [
    "def model():\n",
    "    is_sunday = pyro.sample(\"is_sunday\", pyro.distributions.Bernoulli(1/7.0))\n",
    "    rate = torch.tensor(3.) if is_sunday == 1 else torch.tensor(10.)\n",
    "    numbers = pyro.sample(\"numbers\", pyro.distributions.Poisson(rate))\n",
    "    pyro.sample(\"obs\", pyro.distributions.Poisson(rate), obs=torch.tensor(4))\n",
    "    return is_sunday.item()"
   ]
  },
  {
   "cell_type": "code",
   "execution_count": 3,
   "id": "6c6437db",
   "metadata": {},
   "outputs": [
    {
     "data": {
      "text/plain": [
       "<pyro.infer.importance.Importance at 0x7f59e1f12e20>"
      ]
     },
     "execution_count": 3,
     "metadata": {},
     "output_type": "execute_result"
    }
   ],
   "source": [
    "importance = Importance(model, guide=None, num_samples=20000)\n",
    "importance.run()"
   ]
  },
  {
   "cell_type": "code",
   "execution_count": 4,
   "id": "227b924a",
   "metadata": {},
   "outputs": [
    {
     "data": {
      "text/plain": [
       "0.5970305704350286"
      ]
     },
     "execution_count": 4,
     "metadata": {},
     "output_type": "execute_result"
    }
   ],
   "source": [
    "log_weights = np.array([w.item() for w in importance.log_weights])\n",
    "values = np.array([t.nodes['is_sunday']['value'].item() for t in importance.exec_traces])\n",
    "weights = np.exp(log_weights)\n",
    "np.sum(weights * values) / np.sum(weights)"
   ]
  },
  {
   "cell_type": "markdown",
   "id": "b5ff6395",
   "metadata": {},
   "source": [
    "# Sample from posterior via systematic resampling"
   ]
  },
  {
   "cell_type": "code",
   "execution_count": 5,
   "id": "c6906813",
   "metadata": {},
   "outputs": [],
   "source": [
    "import math\n",
    "def systematic_resampling(log_weights, values):\n",
    "    import torch\n",
    "\n",
    "    mx = max(log_weights)\n",
    "    weight_sum = sum(math.exp(log_weight - mx) for log_weight in log_weights)\n",
    "    u_n = torch.distributions.Uniform(0, 1).sample().item()\n",
    "    sum_acc = 0.0\n",
    "    resamples = []\n",
    "    for (log_weight, value) in zip(log_weights, values):\n",
    "        weight = math.exp(log_weight - mx) * len(values) / weight_sum\n",
    "        sum_acc += weight\n",
    "        while u_n < sum_acc:\n",
    "            u_n += 1\n",
    "            resamples.append(value)\n",
    "    return resamples\n"
   ]
  },
  {
   "cell_type": "code",
   "execution_count": 6,
   "id": "1bec4c35",
   "metadata": {},
   "outputs": [],
   "source": [
    "resamples = systematic_resampling(log_weights, values)                                                               "
   ]
  },
  {
   "cell_type": "code",
   "execution_count": 7,
   "id": "9b5a8f16",
   "metadata": {},
   "outputs": [
    {
     "data": {
      "text/plain": [
       "0.5965"
      ]
     },
     "execution_count": 7,
     "metadata": {},
     "output_type": "execute_result"
    }
   ],
   "source": [
    "np.mean(resamples)"
   ]
  }
 ],
 "metadata": {
  "kernelspec": {
   "display_name": "Python 3 (ipykernel)",
   "language": "python",
   "name": "python3"
  },
  "language_info": {
   "codemirror_mode": {
    "name": "ipython",
    "version": 3
   },
   "file_extension": ".py",
   "mimetype": "text/x-python",
   "name": "python",
   "nbconvert_exporter": "python",
   "pygments_lexer": "ipython3",
   "version": "3.8.10"
  }
 },
 "nbformat": 4,
 "nbformat_minor": 5
}
