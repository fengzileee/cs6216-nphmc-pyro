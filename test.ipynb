{
 "cells": [
  {
   "cell_type": "code",
   "execution_count": 5,
   "metadata": {},
   "outputs": [
    {
     "name": "stdout",
     "output_type": "stream",
     "text": [
      "-3.1012600899986262\n",
      "tensor(-3.1013)\n"
     ]
    }
   ],
   "source": [
    "import pyro\n",
    "import torch\n",
    "import numpy as np\n",
    "import pyro.poutine as poutine\n",
    "import pyro.distributions as dist\n",
    "\n",
    "pyro.set_rng_seed(101)\n",
    "\n",
    "def walk_model():\n",
    "    import pyro\n",
    "    import torch\n",
    "\n",
    "    start = pyro.sample(\"start\", pyro.distributions.Uniform(0, 3))\n",
    "    t = 0\n",
    "    position = start\n",
    "    distance = torch.tensor(0.0)\n",
    "    while position > 0 and position < 10:\n",
    "        step = pyro.sample(f\"step_{t}\", pyro.distributions.Uniform(-1, 1))\n",
    "        distance = distance + torch.abs(step)\n",
    "        position = position + step\n",
    "        t = t + 1\n",
    "    pyro.sample(\"obs\", pyro.distributions.Normal(1.1, 0.1), obs=distance)\n",
    "    return start.item()\n",
    "\n",
    "def make_log_joint(model):\n",
    "    def _log_joint(cond_data, *args, **kwargs):\n",
    "        conditioned_model = poutine.condition(model, data=cond_data)\n",
    "        trace = poutine.trace(conditioned_model).get_trace(*args, **kwargs)\n",
    "        # print(dict(trace)) \n",
    "        return trace.log_prob_sum()\n",
    "    return _log_joint\n",
    "\n",
    "scale_log_joint = make_log_joint(walk_model)\n",
    "value = scale_log_joint({\"start\": torch.tensor(0.5), \"step_0\": torch.tensor(-0.4), \"step_1\": torch.tensor(-0.9), \"obs\": torch.tensor(1.3)})\n",
    "\n",
    "from scipy.stats import norm\n",
    "\n",
    "\n",
    "\n",
    "print(np.log(norm(1.1, 0.1).pdf(1.3) * 1/2 * 1/2 * 1/3))\n",
    "print(value)"
   ]
  },
  {
   "cell_type": "markdown",
   "metadata": {},
   "source": []
  },
  {
   "cell_type": "code",
   "execution_count": null,
   "metadata": {},
   "outputs": [],
   "source": [
    "def _potential_fn(self, params):\n",
    "        params_constrained = {k: self.transforms[k].inv(v) for k, v in params.items()}\n",
    "        cond_model = poutine.condition(self.model, params_constrained)\n",
    "        model_trace = poutine.trace(cond_model).get_trace(\n",
    "            *self.model_args, **self.model_kwargs\n",
    "        )\n",
    "        log_joint = self.trace_prob_evaluator.log_prob(model_trace)\n",
    "        for name, t in self.transforms.items():\n",
    "            log_joint = log_joint - torch.sum(\n",
    "                t.log_abs_det_jacobian(params_constrained[name], params[name])\n",
    "            )\n",
    "        return -log_joint\n",
    "\n"
   ]
  }
 ],
 "metadata": {
  "interpreter": {
   "hash": "c8186fc8f831c0d0284457f5606486ffc43a4beb5dcea2d74f74b3141dd4857d"
  },
  "kernelspec": {
   "display_name": "Python 3.7.3 ('cs6216': venv)",
   "language": "python",
   "name": "python3"
  },
  "language_info": {
   "codemirror_mode": {
    "name": "ipython",
    "version": 3
   },
   "file_extension": ".py",
   "mimetype": "text/x-python",
   "name": "python",
   "nbconvert_exporter": "python",
   "pygments_lexer": "ipython3",
   "version": "3.7.3"
  },
  "orig_nbformat": 4
 },
 "nbformat": 4,
 "nbformat_minor": 2
}
